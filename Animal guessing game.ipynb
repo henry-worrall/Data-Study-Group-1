{
 "cells": [
  {
   "cell_type": "markdown",
   "metadata": {},
   "source": [
    "## Animal Guessing Game"
   ]
  },
  {
   "cell_type": "markdown",
   "metadata": {},
   "source": [
    "#### **This notebook displays a dictionary game where the player has to guess the English translation for an animal displayed in German**"
   ]
  },
  {
   "cell_type": "markdown",
   "metadata": {},
   "source": [
    "Inspiration from: Rosalind Walden"
   ]
  },
  {
   "cell_type": "code",
   "execution_count": null,
   "metadata": {},
   "outputs": [],
   "source": [
    "import random"
   ]
  },
  {
   "cell_type": "code",
   "execution_count": null,
   "metadata": {},
   "outputs": [],
   "source": [
    "animal_dictionary = {'dog': 'Hund', \n",
    "'cat': 'Katze', \n",
    "'horse' : 'Pferd', \n",
    "'spider': 'Spinne', \n",
    "'tiger': 'Tigerin', \n",
    "'monkey': 'Affe', \n",
    "'snake': 'Schlange', \n",
    "'hippopotamus' : 'Nilpferd', \n",
    "'rabbit' : 'Hase', \n",
    "'elephant' : 'Elefant',\n",
    "'butterfly' : 'Schmetterling', \n",
    "'frog': 'frosch'}\n",
    "\n",
    "#language vocabulary game to write english/spanish equivalent if given a randomly chosen word\n",
    "#input\n",
    "#separate into one long list - pick word at random\n",
    "\n",
    "animal_list_eng = list(animal_dictionary)\n",
    "animal_list_german = list(animal_dictionary.values())"
   ]
  },
  {
   "cell_type": "code",
   "execution_count": null,
   "metadata": {},
   "outputs": [],
   "source": [
    "def animals():\n",
    "    rand_word = random.choice(animal_list_german)\n",
    "    game_prompt = input('Would you like to start the game? Y/N ')\n",
    "    \n",
    "    if game_prompt == 'Y':\n",
    "        correct = False\n",
    "        while correct == False:\n",
    "            guess = input(f'This is your word: {rand_word}. What is the english equivalent?')\n",
    "            if guess in animal_dictionary:\n",
    "                if rand_word == animal_dictionary[guess]:\n",
    "                    correct = True\n",
    "                    print('Correct!')\n",
    "                    play_again = input('Would you like to play again? Y/N')\n",
    "                    if play_again == 'Y':\n",
    "                        animals() \n",
    "                else:\n",
    "                    try_again = print('Wrong! :( Try again...')\n",
    "            else:\n",
    "                try_again = print('Wrong! :( Try again...')\n",
    "                \n",
    "    else:\n",
    "        print('Okay, come again next time!')\n",
    "                \n",
    "                \n",
    "                \n",
    "    \n",
    "    "
   ]
  },
  {
   "cell_type": "code",
   "execution_count": null,
   "metadata": {},
   "outputs": [],
   "source": [
    "animals()"
   ]
  }
 ],
 "metadata": {
  "kernelspec": {
   "display_name": "Python 3",
   "language": "python",
   "name": "python3"
  },
  "language_info": {
   "codemirror_mode": {
    "name": "ipython",
    "version": 3
   },
   "file_extension": ".py",
   "mimetype": "text/x-python",
   "name": "python",
   "nbconvert_exporter": "python",
   "pygments_lexer": "ipython3",
   "version": "3.8.5"
  }
 },
 "nbformat": 4,
 "nbformat_minor": 4
}
